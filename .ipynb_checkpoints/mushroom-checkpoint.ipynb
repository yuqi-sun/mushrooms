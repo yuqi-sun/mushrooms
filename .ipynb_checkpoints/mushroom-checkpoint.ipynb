{
 "cells": [
  {
   "cell_type": "markdown",
   "metadata": {},
   "source": [
    "# Predizione commestibilità funghi\n",
    "\n",
    "Progetto di Programmazione di Applicazioni Data Intensive a.a. 2019/20<br>\n",
    "<br>\n",
    "**Realizzato da**: Yuqi Sun<br>\n",
    "yuqi.sun@studio.unibo.it<br>\n",
    "826197\n",
    "<br>"
   ]
  },
  {
   "cell_type": "markdown",
   "metadata": {},
   "source": [
    "In questo progetto si vuole prevedere la commestibilità dei funghi date alcune loro caratteristiche. Il dataset preso in considerazione includono funghi appartenendi a 23 specie diverse di `funghi lamellati` (funghi dell'ordine `Agaricales`) appartenenti ai geni `Agaricus` e `Lepiota`.\n",
    "\n",
    "Ogni specie è classificata come `commestibile`, `velenoso`, `ignota commestibilità` e `non raccomandato`. Gli ultimi due tipi sono stati uniti con quelli velenosi."
   ]
  },
  {
   "cell_type": "markdown",
   "metadata": {},
   "source": [
    "Di seguito si importano le librerie necessarie."
   ]
  },
  {
   "cell_type": "code",
   "execution_count": 4,
   "metadata": {
    "collapsed": true,
    "scrolled": false
   },
   "outputs": [],
   "source": [
    "import numpy as np\n",
    "import pandas as pd\n",
    "import matplotlib.pyplot as plt\n",
    "import sklearn\n",
    "import seaborn as sns\n",
    "from sklearn.preprocessing import StandardScaler"
   ]
  },
  {
   "cell_type": "markdown",
   "metadata": {},
   "source": [
    "<br><br><br>\n",
    "## 1. Caricamento dei dati\n",
    "\n",
    "Il dataset presenta le seguenti features:\n",
    "- `class`: indica se il fungo è commestibile o meno (edible=**e**, poisonous=**p**)\n",
    "- `cap-shape`: indica la forma del cappello (bell=**b**,conical=**c**,convex=**x**,flat=**f**, knobbed=**k**,sunken=**s**)\n",
    "- `cap-surface`: indica la superficie del cappello (fibrous=**f**,grooves=**g**,scaly=**y**,smooth=**s**)\n",
    "- `cap-color`: indica il colore del gappello (brown=**n**,buff=**b**,cinnamon=**c**,gray=**g**,green=**r**,pink=**p**,purple=**u**,red=**e**,white=**w**,yellow=**y**)\n",
    "- `bruises`: presenza di macchie/lividi (bruises=**t**,no=**f**)\n",
    "- `odor`: odore del fungo (almond=**a**,anise=**l**,creosote=**c**,fishy=**y**,foul=**f**,musty=**m**,none=**n**,pungent=**p**,spicy=**s**)\n",
    "- `gill-attachment`: attaccatture delle lamelle (attached=a,descending=d,free=f,notched=n)\n",
    "- `gill-spacing`: distanza tra le lamelle (close=c,crowded=w,distant=d)\n",
    "- `gill-size`: grandezza delle lamelle (broad=b,narrow=n)\n",
    "- `gill-color`: colore delle lamelle (black=k,brown=n,buff=b,chocolate=h,gray=g, green=r,orange=o,pink=p,purple=u,red=e,white=w,yellow=y)\n",
    "- `stalk-shape`: forma del gambo (enlarging=e,tapering=t)\n",
    "- `stalk-root`: radice del gambo (bulbous=b,club=c,cup=u,equal=e,rhizomorphs=z,rooted=r,missing=?)\n",
    "- `stalk-surface-above-ring`: superficie del gambo sopra l'annello (fibrous=f,scaly=y,silky=k,smooth=s)\n",
    "- `stalk-surface-below-ring`: superficie del gambo sotto l'annello (fibrous=f,scaly=y,silky=k,smooth=s)\n",
    "- `stalk-color-above-ring`: colore del gambo sopra l'annello (brown=n,buff=b,cinnamon=c,gray=g,orange=o,pink=p,red=e,white=w,yellow=y)\n",
    "- `stalk-color-below-ring`: colore del gambo sotto l'annello (brown=n,buff=b,cinnamon=c,gray=g,orange=o,pink=p,red=e,white=w,yellow=y)\n",
    "- `veil-type`: tipo di velo (partial=p,universal=u)\n",
    "- `veil-color`: colore del velo (brown=n,orange=o,white=w,yellow=y)\n",
    "- `ring-number`: numero di annelli (none=n,one=o,two=t)\n",
    "- `ring-type`: tipo di annello (cobwebby=c,evanescent=e,flaring=f,large=l,none=n,pendant=p,sheathing=s,zone=z)\n",
    "- `spore-print-color`: colore delle  sporata (black=k,brown=n,buff=b,chocolate=h,green=r,orange=o,purple=u,white=w,yellow=y)\n",
    "- `population`: abundant=a,clustered=c,numerous=n,scattered=s,several=v,solitary=y\n",
    "- `habitat`: grasses=g,leaves=l,meadows=m,paths=p,urban=u,waste=w,woods=d"
   ]
  },
  {
   "cell_type": "markdown",
   "metadata": {},
   "source": [
    "`class` è la feature da predire"
   ]
  },
  {
   "cell_type": "markdown",
   "metadata": {},
   "source": [
    "Per risparmiare memoria, si carica il dataset settando direttamente come tipo di dato `category`"
   ]
  },
  {
   "cell_type": "code",
   "execution_count": 16,
   "metadata": {
    "collapsed": true,
    "scrolled": false
   },
   "outputs": [],
   "source": [
    "mushrooms = pd.read_csv('mushrooms.csv',  dtype=\"category\")"
   ]
  },
  {
   "cell_type": "code",
   "execution_count": 17,
   "metadata": {
    "scrolled": false
   },
   "outputs": [
    {
     "data": {
      "text/html": [
       "<div>\n",
       "<style scoped>\n",
       "    .dataframe tbody tr th:only-of-type {\n",
       "        vertical-align: middle;\n",
       "    }\n",
       "\n",
       "    .dataframe tbody tr th {\n",
       "        vertical-align: top;\n",
       "    }\n",
       "\n",
       "    .dataframe thead th {\n",
       "        text-align: right;\n",
       "    }\n",
       "</style>\n",
       "<table border=\"1\" class=\"dataframe\">\n",
       "  <thead>\n",
       "    <tr style=\"text-align: right;\">\n",
       "      <th></th>\n",
       "      <th>class</th>\n",
       "      <th>cap-shape</th>\n",
       "      <th>cap-surface</th>\n",
       "      <th>cap-color</th>\n",
       "      <th>bruises</th>\n",
       "      <th>odor</th>\n",
       "      <th>gill-attachment</th>\n",
       "      <th>gill-spacing</th>\n",
       "      <th>gill-size</th>\n",
       "      <th>gill-color</th>\n",
       "      <th>...</th>\n",
       "      <th>stalk-surface-below-ring</th>\n",
       "      <th>stalk-color-above-ring</th>\n",
       "      <th>stalk-color-below-ring</th>\n",
       "      <th>veil-type</th>\n",
       "      <th>veil-color</th>\n",
       "      <th>ring-number</th>\n",
       "      <th>ring-type</th>\n",
       "      <th>spore-print-color</th>\n",
       "      <th>population</th>\n",
       "      <th>habitat</th>\n",
       "    </tr>\n",
       "  </thead>\n",
       "  <tbody>\n",
       "    <tr>\n",
       "      <th>0</th>\n",
       "      <td>p</td>\n",
       "      <td>x</td>\n",
       "      <td>s</td>\n",
       "      <td>n</td>\n",
       "      <td>t</td>\n",
       "      <td>p</td>\n",
       "      <td>f</td>\n",
       "      <td>c</td>\n",
       "      <td>n</td>\n",
       "      <td>k</td>\n",
       "      <td>...</td>\n",
       "      <td>s</td>\n",
       "      <td>w</td>\n",
       "      <td>w</td>\n",
       "      <td>p</td>\n",
       "      <td>w</td>\n",
       "      <td>o</td>\n",
       "      <td>p</td>\n",
       "      <td>k</td>\n",
       "      <td>s</td>\n",
       "      <td>u</td>\n",
       "    </tr>\n",
       "    <tr>\n",
       "      <th>1</th>\n",
       "      <td>e</td>\n",
       "      <td>x</td>\n",
       "      <td>s</td>\n",
       "      <td>y</td>\n",
       "      <td>t</td>\n",
       "      <td>a</td>\n",
       "      <td>f</td>\n",
       "      <td>c</td>\n",
       "      <td>b</td>\n",
       "      <td>k</td>\n",
       "      <td>...</td>\n",
       "      <td>s</td>\n",
       "      <td>w</td>\n",
       "      <td>w</td>\n",
       "      <td>p</td>\n",
       "      <td>w</td>\n",
       "      <td>o</td>\n",
       "      <td>p</td>\n",
       "      <td>n</td>\n",
       "      <td>n</td>\n",
       "      <td>g</td>\n",
       "    </tr>\n",
       "    <tr>\n",
       "      <th>2</th>\n",
       "      <td>e</td>\n",
       "      <td>b</td>\n",
       "      <td>s</td>\n",
       "      <td>w</td>\n",
       "      <td>t</td>\n",
       "      <td>l</td>\n",
       "      <td>f</td>\n",
       "      <td>c</td>\n",
       "      <td>b</td>\n",
       "      <td>n</td>\n",
       "      <td>...</td>\n",
       "      <td>s</td>\n",
       "      <td>w</td>\n",
       "      <td>w</td>\n",
       "      <td>p</td>\n",
       "      <td>w</td>\n",
       "      <td>o</td>\n",
       "      <td>p</td>\n",
       "      <td>n</td>\n",
       "      <td>n</td>\n",
       "      <td>m</td>\n",
       "    </tr>\n",
       "    <tr>\n",
       "      <th>3</th>\n",
       "      <td>p</td>\n",
       "      <td>x</td>\n",
       "      <td>y</td>\n",
       "      <td>w</td>\n",
       "      <td>t</td>\n",
       "      <td>p</td>\n",
       "      <td>f</td>\n",
       "      <td>c</td>\n",
       "      <td>n</td>\n",
       "      <td>n</td>\n",
       "      <td>...</td>\n",
       "      <td>s</td>\n",
       "      <td>w</td>\n",
       "      <td>w</td>\n",
       "      <td>p</td>\n",
       "      <td>w</td>\n",
       "      <td>o</td>\n",
       "      <td>p</td>\n",
       "      <td>k</td>\n",
       "      <td>s</td>\n",
       "      <td>u</td>\n",
       "    </tr>\n",
       "    <tr>\n",
       "      <th>4</th>\n",
       "      <td>e</td>\n",
       "      <td>x</td>\n",
       "      <td>s</td>\n",
       "      <td>g</td>\n",
       "      <td>f</td>\n",
       "      <td>n</td>\n",
       "      <td>f</td>\n",
       "      <td>w</td>\n",
       "      <td>b</td>\n",
       "      <td>k</td>\n",
       "      <td>...</td>\n",
       "      <td>s</td>\n",
       "      <td>w</td>\n",
       "      <td>w</td>\n",
       "      <td>p</td>\n",
       "      <td>w</td>\n",
       "      <td>o</td>\n",
       "      <td>e</td>\n",
       "      <td>n</td>\n",
       "      <td>a</td>\n",
       "      <td>g</td>\n",
       "    </tr>\n",
       "  </tbody>\n",
       "</table>\n",
       "<p>5 rows × 23 columns</p>\n",
       "</div>"
      ],
      "text/plain": [
       "  class cap-shape cap-surface cap-color bruises odor gill-attachment  \\\n",
       "0     p         x           s         n       t    p               f   \n",
       "1     e         x           s         y       t    a               f   \n",
       "2     e         b           s         w       t    l               f   \n",
       "3     p         x           y         w       t    p               f   \n",
       "4     e         x           s         g       f    n               f   \n",
       "\n",
       "  gill-spacing gill-size gill-color  ... stalk-surface-below-ring  \\\n",
       "0            c         n          k  ...                        s   \n",
       "1            c         b          k  ...                        s   \n",
       "2            c         b          n  ...                        s   \n",
       "3            c         n          n  ...                        s   \n",
       "4            w         b          k  ...                        s   \n",
       "\n",
       "  stalk-color-above-ring stalk-color-below-ring veil-type veil-color  \\\n",
       "0                      w                      w         p          w   \n",
       "1                      w                      w         p          w   \n",
       "2                      w                      w         p          w   \n",
       "3                      w                      w         p          w   \n",
       "4                      w                      w         p          w   \n",
       "\n",
       "  ring-number ring-type spore-print-color population habitat  \n",
       "0           o         p                 k          s       u  \n",
       "1           o         p                 n          n       g  \n",
       "2           o         p                 n          n       m  \n",
       "3           o         p                 k          s       u  \n",
       "4           o         e                 n          a       g  \n",
       "\n",
       "[5 rows x 23 columns]"
      ]
     },
     "execution_count": 17,
     "metadata": {},
     "output_type": "execute_result"
    }
   ],
   "source": [
    "mushrooms.head(5)"
   ]
  },
  {
   "cell_type": "code",
   "execution_count": 18,
   "metadata": {
    "scrolled": false
   },
   "outputs": [
    {
     "name": "stdout",
     "output_type": "stream",
     "text": [
      "<class 'pandas.core.frame.DataFrame'>\n",
      "RangeIndex: 8124 entries, 0 to 8123\n",
      "Columns: 23 entries, class to habitat\n",
      "dtypes: category(23)\n",
      "memory usage: 188.8 KB\n"
     ]
    }
   ],
   "source": [
    "mushrooms.info(verbose=False, memory_usage='deep')"
   ]
  },
  {
   "cell_type": "markdown",
   "metadata": {},
   "source": [
    "<br><br><br>\n",
    "## 2. Analisi dei dati\n",
    "\n",
    "Il dataset è diviso abbastanza equamente in funghi commestibili/velenosi (4208 vs 3916): i funghi commestibili sono 292 in più di quelli velenosi."
   ]
  },
  {
   "cell_type": "code",
   "execution_count": 20,
   "metadata": {
    "scrolled": false
   },
   "outputs": [
    {
     "data": {
      "text/plain": [
       "e    4208\n",
       "p    3916\n",
       "Name: class, dtype: int64"
      ]
     },
     "execution_count": 20,
     "metadata": {},
     "output_type": "execute_result"
    },
    {
     "data": {
      "image/png": "[encoded data removed]",
      "text/plain": [
       "<Figure size 432x288 with 1 Axes>"
      ]
     },
     "metadata": {},
     "output_type": "display_data"
    }
   ],
   "source": [
    "mushrooms['class'].value_counts().plot.pie(labels=['edible','poisonous'])\n",
    "mushrooms['class'].value_counts()"
   ]
  },
  {
   "cell_type": "markdown",
   "metadata": {},
   "source": [
    "### 2.1 Analisi delle features\n",
    "\n",
    "Analizziamo adesso le varie features."
   ]
  },
  {
   "cell_type": "code",
   "execution_count": 26,
   "metadata": {
    "scrolled": true
   },
   "outputs": [
    {
     "data": {
      "text/html": [
       "<div>\n",
       "<style scoped>\n",
       "    .dataframe tbody tr th:only-of-type {\n",
       "        vertical-align: middle;\n",
       "    }\n",
       "\n",
       "    .dataframe tbody tr th {\n",
       "        vertical-align: top;\n",
       "    }\n",
       "\n",
       "    .dataframe thead th {\n",
       "        text-align: right;\n",
       "    }\n",
       "</style>\n",
       "<table border=\"1\" class=\"dataframe\">\n",
       "  <thead>\n",
       "    <tr style=\"text-align: right;\">\n",
       "      <th></th>\n",
       "      <th>count</th>\n",
       "      <th>unique</th>\n",
       "      <th>top</th>\n",
       "      <th>freq</th>\n",
       "    </tr>\n",
       "  </thead>\n",
       "  <tbody>\n",
       "    <tr>\n",
       "      <th>class</th>\n",
       "      <td>8124</td>\n",
       "      <td>2</td>\n",
       "      <td>e</td>\n",
       "      <td>4208</td>\n",
       "    </tr>\n",
       "    <tr>\n",
       "      <th>cap-shape</th>\n",
       "      <td>8124</td>\n",
       "      <td>6</td>\n",
       "      <td>x</td>\n",
       "      <td>3656</td>\n",
       "    </tr>\n",
       "    <tr>\n",
       "      <th>cap-surface</th>\n",
       "      <td>8124</td>\n",
       "      <td>4</td>\n",
       "      <td>y</td>\n",
       "      <td>3244</td>\n",
       "    </tr>\n",
       "    <tr>\n",
       "      <th>cap-color</th>\n",
       "      <td>8124</td>\n",
       "      <td>10</td>\n",
       "      <td>n</td>\n",
       "      <td>2284</td>\n",
       "    </tr>\n",
       "    <tr>\n",
       "      <th>bruises</th>\n",
       "      <td>8124</td>\n",
       "      <td>2</td>\n",
       "      <td>f</td>\n",
       "      <td>4748</td>\n",
       "    </tr>\n",
       "    <tr>\n",
       "      <th>odor</th>\n",
       "      <td>8124</td>\n",
       "      <td>9</td>\n",
       "      <td>n</td>\n",
       "      <td>3528</td>\n",
       "    </tr>\n",
       "    <tr>\n",
       "      <th>gill-attachment</th>\n",
       "      <td>8124</td>\n",
       "      <td>2</td>\n",
       "      <td>f</td>\n",
       "      <td>7914</td>\n",
       "    </tr>\n",
       "    <tr>\n",
       "      <th>gill-spacing</th>\n",
       "      <td>8124</td>\n",
       "      <td>2</td>\n",
       "      <td>c</td>\n",
       "      <td>6812</td>\n",
       "    </tr>\n",
       "    <tr>\n",
       "      <th>gill-size</th>\n",
       "      <td>8124</td>\n",
       "      <td>2</td>\n",
       "      <td>b</td>\n",
       "      <td>5612</td>\n",
       "    </tr>\n",
       "    <tr>\n",
       "      <th>gill-color</th>\n",
       "      <td>8124</td>\n",
       "      <td>12</td>\n",
       "      <td>b</td>\n",
       "      <td>1728</td>\n",
       "    </tr>\n",
       "    <tr>\n",
       "      <th>stalk-shape</th>\n",
       "      <td>8124</td>\n",
       "      <td>2</td>\n",
       "      <td>t</td>\n",
       "      <td>4608</td>\n",
       "    </tr>\n",
       "    <tr>\n",
       "      <th>stalk-root</th>\n",
       "      <td>8124</td>\n",
       "      <td>5</td>\n",
       "      <td>b</td>\n",
       "      <td>3776</td>\n",
       "    </tr>\n",
       "    <tr>\n",
       "      <th>stalk-surface-above-ring</th>\n",
       "      <td>8124</td>\n",
       "      <td>4</td>\n",
       "      <td>s</td>\n",
       "      <td>5176</td>\n",
       "    </tr>\n",
       "    <tr>\n",
       "      <th>stalk-surface-below-ring</th>\n",
       "      <td>8124</td>\n",
       "      <td>4</td>\n",
       "      <td>s</td>\n",
       "      <td>4936</td>\n",
       "    </tr>\n",
       "    <tr>\n",
       "      <th>stalk-color-above-ring</th>\n",
       "      <td>8124</td>\n",
       "      <td>9</td>\n",
       "      <td>w</td>\n",
       "      <td>4464</td>\n",
       "    </tr>\n",
       "    <tr>\n",
       "      <th>stalk-color-below-ring</th>\n",
       "      <td>8124</td>\n",
       "      <td>9</td>\n",
       "      <td>w</td>\n",
       "      <td>4384</td>\n",
       "    </tr>\n",
       "    <tr>\n",
       "      <th>veil-type</th>\n",
       "      <td>8124</td>\n",
       "      <td>1</td>\n",
       "      <td>p</td>\n",
       "      <td>8124</td>\n",
       "    </tr>\n",
       "    <tr>\n",
       "      <th>veil-color</th>\n",
       "      <td>8124</td>\n",
       "      <td>4</td>\n",
       "      <td>w</td>\n",
       "      <td>7924</td>\n",
       "    </tr>\n",
       "    <tr>\n",
       "      <th>ring-number</th>\n",
       "      <td>8124</td>\n",
       "      <td>3</td>\n",
       "      <td>o</td>\n",
       "      <td>7488</td>\n",
       "    </tr>\n",
       "    <tr>\n",
       "      <th>ring-type</th>\n",
       "      <td>8124</td>\n",
       "      <td>5</td>\n",
       "      <td>p</td>\n",
       "      <td>3968</td>\n",
       "    </tr>\n",
       "    <tr>\n",
       "      <th>spore-print-color</th>\n",
       "      <td>8124</td>\n",
       "      <td>9</td>\n",
       "      <td>w</td>\n",
       "      <td>2388</td>\n",
       "    </tr>\n",
       "    <tr>\n",
       "      <th>population</th>\n",
       "      <td>8124</td>\n",
       "      <td>6</td>\n",
       "      <td>v</td>\n",
       "      <td>4040</td>\n",
       "    </tr>\n",
       "    <tr>\n",
       "      <th>habitat</th>\n",
       "      <td>8124</td>\n",
       "      <td>7</td>\n",
       "      <td>d</td>\n",
       "      <td>3148</td>\n",
       "    </tr>\n",
       "  </tbody>\n",
       "</table>\n",
       "</div>"
      ],
      "text/plain": [
       "                         count unique top  freq\n",
       "class                     8124      2   e  4208\n",
       "cap-shape                 8124      6   x  3656\n",
       "cap-surface               8124      4   y  3244\n",
       "cap-color                 8124     10   n  2284\n",
       "bruises                   8124      2   f  4748\n",
       "odor                      8124      9   n  3528\n",
       "gill-attachment           8124      2   f  7914\n",
       "gill-spacing              8124      2   c  6812\n",
       "gill-size                 8124      2   b  5612\n",
       "gill-color                8124     12   b  1728\n",
       "stalk-shape               8124      2   t  4608\n",
       "stalk-root                8124      5   b  3776\n",
       "stalk-surface-above-ring  8124      4   s  5176\n",
       "stalk-surface-below-ring  8124      4   s  4936\n",
       "stalk-color-above-ring    8124      9   w  4464\n",
       "stalk-color-below-ring    8124      9   w  4384\n",
       "veil-type                 8124      1   p  8124\n",
       "veil-color                8124      4   w  7924\n",
       "ring-number               8124      3   o  7488\n",
       "ring-type                 8124      5   p  3968\n",
       "spore-print-color         8124      9   w  2388\n",
       "population                8124      6   v  4040\n",
       "habitat                   8124      7   d  3148"
      ]
     },
     "execution_count": 26,
     "metadata": {},
     "output_type": "execute_result"
    }
   ],
   "source": [
    "mushrooms.describe().T"
   ]
  },
  {
   "cell_type": "markdown",
   "metadata": {},
   "source": [
    "Vediamo che `veil-type` presenta un unico valore: tutti i funghi hanno un velo di tipo `parziale` e non sono presenti funghi con velo `universale`. Il `veil-type` di un fungo, quindi, non ha rilevanza nel determinare la sua commestibilità e procediamo ad eliminarlo dal dataset."
   ]
  },
  {
   "cell_type": "code",
   "execution_count": 33,
   "metadata": {
    "collapsed": true,
    "scrolled": false
   },
   "outputs": [],
   "source": [
    "mushrooms.drop(\"veil-type\", inplace=True,axis=1)"
   ]
  },
  {
   "cell_type": "markdown",
   "metadata": {},
   "source": [
    "#### Forma del cappello\n",
    "Il cappello di un fungo può essere a forma di campana, conico, convesso, piatto, a pomello o incavato (*inglese: bell = b, conical = c, convex = x, flat = f, knobbed = k, sunken = s*)."
   ]
  },
  {
   "cell_type": "code",
   "execution_count": 307,
   "metadata": {
    "scrolled": false
   },
   "outputs": [],
   "source": [
    "def getClassByFeature(features_name, dict_features):\n",
    "    df = mushrooms[features_name].value_counts().to_frame()\n",
    "    edibles = []\n",
    "    poisonous = []\n",
    "    for i in df.index:\n",
    "        edibles.append(len(mushrooms[(mushrooms[features_name] == i) & (mushrooms[\"class\"] == \"e\")]))\n",
    "        poisonous.append(len(mushrooms[(mushrooms[features_name] == i) & (mushrooms[\"class\"] == \"p\")]))\n",
    "    df[\"edible\"] = edibles\n",
    "    df[\"poisonous\"] = poisonous\n",
    "    df[\"edible %\"] = df[\"edible\"]/df[features_name] * 100\n",
    "    df = df.rename(columns={features_name: \"total\"}, index=dict_features)\n",
    "    return df"
   ]
  },
  {
   "cell_type": "code",
   "execution_count": 284,
   "metadata": {
    "scrolled": false
   },
   "outputs": [],
   "source": [
    "palette = [\"#a6dcef\", \"#fb9090\"]\n",
    "sns.set_palette(palette)"
   ]
  },
  {
   "cell_type": "code",
   "execution_count": 308,
   "metadata": {
    "scrolled": false
   },
   "outputs": [],
   "source": [
    "shape_dict = {\"b\":\"bell\", \"c\":\"conical\", \"x\":\"convex\", \"f\": \"flat\", \"k\":\"knobbed\", \"s\":\"sunken\"}\n",
    "cap_shape = getClassByFeature(\"cap-shape\", shape_dict)"
   ]
  },
  {
   "cell_type": "code",
   "execution_count": 309,
   "metadata": {
    "scrolled": true
   },
   "outputs": [
    {
     "data": {
      "text/html": [
       "<div>\n",
       "<style scoped>\n",
       "    .dataframe tbody tr th:only-of-type {\n",
       "        vertical-align: middle;\n",
       "    }\n",
       "\n",
       "    .dataframe tbody tr th {\n",
       "        vertical-align: top;\n",
       "    }\n",
       "\n",
       "    .dataframe thead th {\n",
       "        text-align: right;\n",
       "    }\n",
       "</style>\n",
       "<table border=\"1\" class=\"dataframe\">\n",
       "  <thead>\n",
       "    <tr style=\"text-align: right;\">\n",
       "      <th></th>\n",
       "      <th>total</th>\n",
       "      <th>edible</th>\n",
       "      <th>poisonous</th>\n",
       "      <th>edible %</th>\n",
       "    </tr>\n",
       "  </thead>\n",
       "  <tbody>\n",
       "    <tr>\n",
       "      <th>convex</th>\n",
       "      <td>3656</td>\n",
       "      <td>1948</td>\n",
       "      <td>1708</td>\n",
       "      <td>53.282276</td>\n",
       "    </tr>\n",
       "    <tr>\n",
       "      <th>flat</th>\n",
       "      <td>3152</td>\n",
       "      <td>1596</td>\n",
       "      <td>1556</td>\n",
       "      <td>50.634518</td>\n",
       "    </tr>\n",
       "    <tr>\n",
       "      <th>knobbed</th>\n",
       "      <td>828</td>\n",
       "      <td>228</td>\n",
       "      <td>600</td>\n",
       "      <td>27.536232</td>\n",
       "    </tr>\n",
       "    <tr>\n",
       "      <th>bell</th>\n",
       "      <td>452</td>\n",
       "      <td>404</td>\n",
       "      <td>48</td>\n",
       "      <td>89.380531</td>\n",
       "    </tr>\n",
       "    <tr>\n",
       "      <th>sunken</th>\n",
       "      <td>32</td>\n",
       "      <td>32</td>\n",
       "      <td>0</td>\n",
       "      <td>100.000000</td>\n",
       "    </tr>\n",
       "    <tr>\n",
       "      <th>conical</th>\n",
       "      <td>4</td>\n",
       "      <td>0</td>\n",
       "      <td>4</td>\n",
       "      <td>0.000000</td>\n",
       "    </tr>\n",
       "  </tbody>\n",
       "</table>\n",
       "</div>"
      ],
      "text/plain": [
       "         total  edible  poisonous    edible %\n",
       "convex    3656    1948       1708   53.282276\n",
       "flat      3152    1596       1556   50.634518\n",
       "knobbed    828     228        600   27.536232\n",
       "bell       452     404         48   89.380531\n",
       "sunken      32      32          0  100.000000\n",
       "conical      4       0          4    0.000000"
      ]
     },
     "execution_count": 309,
     "metadata": {},
     "output_type": "execute_result"
    }
   ],
   "source": [
    "cap_shape"
   ]
  },
  {
   "cell_type": "code",
   "execution_count": 276,
   "metadata": {
    "scrolled": false
   },
   "outputs": [
    {
     "data": {
      "text/plain": [
       "<matplotlib.axes._subplots.AxesSubplot at 0x137f4ed0>"
      ]
     },
     "execution_count": 276,
     "metadata": {},
     "output_type": "execute_result"
    },
    {
     "data": {
      "image/png": "[encoded data removed]",
      "text/plain": [
       "<Figure size 432x288 with 1 Axes>"
      ]
     },
     "metadata": {
      "needs_background": "light"
     },
     "output_type": "display_data"
    }
   ],
   "source": [
    "sns.countplot(x=mushrooms[\"cap-shape\"], hue=\"class\", data=mushrooms)"
   ]
  },
  {
   "cell_type": "markdown",
   "metadata": {},
   "source": [
    "La maggior parte dei funghi hanno un cappello a forma `convessa` o `piatta`, a loro volta divisi abbastanza equamente in commestibili e velenosi. Gran parte dei funghi con un cappello a forma di `pomello` sono velenosi, mentre gran parte dei funghi a forma di `campana` sono commestibili. I 32 con il cappello `incavato` sono tutti commestibili, i 4 con il capello `conico` sono tutti velenosi."
   ]
  },
  {
   "cell_type": "markdown",
   "metadata": {},
   "source": [
    "#### Le altre features\n",
    "Visualizziamo adesso le restanti features in modo simile."
   ]
  },
  {
   "cell_type": "code",
   "execution_count": 236,
   "metadata": {
    "scrolled": false
   },
   "outputs": [],
   "source": [
    "features = mushrooms.drop([\"class\", \"cap-shape\"], axis=1).columns"
   ]
  },
  {
   "cell_type": "code",
   "execution_count": 237,
   "metadata": {
    "scrolled": false
   },
   "outputs": [
    {
     "data": {
      "image/png": "[encoded data removed]",
      "text/plain": [
       "<Figure size 1080x4320 with 20 Axes>"
      ]
     },
     "metadata": {
      "needs_background": "light"
     },
     "output_type": "display_data"
    }
   ],
   "source": [
    "fig, axes = plt.subplots(10, 2, figsize=(15, 60))\n",
    "for i, feature in enumerate(features):\n",
    "    sns.countplot(x=mushrooms[feature], hue=\"class\", data=mushrooms, ax=axes[int(i/2), round(i%2)])"
   ]
  },
  {
   "cell_type": "markdown",
   "metadata": {
    "collapsed": true,
    "scrolled": false
   },
   "source": [
    "Come si può notare dai vari grafici, non c'è una perfetta separazione tra le varie features. Alcune features, come `odor`, `spore-print-color` e `habitat`, presentano delle disparanze interessenti che possiamo analizzare più dettagliamente."
   ]
  },
  {
   "cell_type": "markdown",
   "metadata": {},
   "source": [
    "#### Odore\n",
    "Un fungo può avere un'odore di mandorla, anice, creosoto, di pesce, marcio, ammuffito, nessuno, pungente o speziato (*inglese: almond = a, anise = l, creosote = c, fishy = y, foul = f, musty = m, none = n, pungent = p, spicy = s*)."
   ]
  },
  {
   "cell_type": "code",
   "execution_count": 310,
   "metadata": {
    "scrolled": true
   },
   "outputs": [
    {
     "data": {
      "text/html": [
       "<div>\n",
       "<style scoped>\n",
       "    .dataframe tbody tr th:only-of-type {\n",
       "        vertical-align: middle;\n",
       "    }\n",
       "\n",
       "    .dataframe tbody tr th {\n",
       "        vertical-align: top;\n",
       "    }\n",
       "\n",
       "    .dataframe thead th {\n",
       "        text-align: right;\n",
       "    }\n",
       "</style>\n",
       "<table border=\"1\" class=\"dataframe\">\n",
       "  <thead>\n",
       "    <tr style=\"text-align: right;\">\n",
       "      <th></th>\n",
       "      <th>total</th>\n",
       "      <th>edible</th>\n",
       "      <th>poisonous</th>\n",
       "      <th>edible %</th>\n",
       "    </tr>\n",
       "  </thead>\n",
       "  <tbody>\n",
       "    <tr>\n",
       "      <th>none</th>\n",
       "      <td>3528</td>\n",
       "      <td>3408</td>\n",
       "      <td>120</td>\n",
       "      <td>96.598639</td>\n",
       "    </tr>\n",
       "    <tr>\n",
       "      <th>foul</th>\n",
       "      <td>2160</td>\n",
       "      <td>0</td>\n",
       "      <td>2160</td>\n",
       "      <td>0.000000</td>\n",
       "    </tr>\n",
       "    <tr>\n",
       "      <th>fishy</th>\n",
       "      <td>576</td>\n",
       "      <td>0</td>\n",
       "      <td>576</td>\n",
       "      <td>0.000000</td>\n",
       "    </tr>\n",
       "    <tr>\n",
       "      <th>spicy</th>\n",
       "      <td>576</td>\n",
       "      <td>0</td>\n",
       "      <td>576</td>\n",
       "      <td>0.000000</td>\n",
       "    </tr>\n",
       "    <tr>\n",
       "      <th>anise</th>\n",
       "      <td>400</td>\n",
       "      <td>400</td>\n",
       "      <td>0</td>\n",
       "      <td>100.000000</td>\n",
       "    </tr>\n",
       "    <tr>\n",
       "      <th>almond</th>\n",
       "      <td>400</td>\n",
       "      <td>400</td>\n",
       "      <td>0</td>\n",
       "      <td>100.000000</td>\n",
       "    </tr>\n",
       "    <tr>\n",
       "      <th>pungent</th>\n",
       "      <td>256</td>\n",
       "      <td>0</td>\n",
       "      <td>256</td>\n",
       "      <td>0.000000</td>\n",
       "    </tr>\n",
       "    <tr>\n",
       "      <th>creosote</th>\n",
       "      <td>192</td>\n",
       "      <td>0</td>\n",
       "      <td>192</td>\n",
       "      <td>0.000000</td>\n",
       "    </tr>\n",
       "    <tr>\n",
       "      <th>musty</th>\n",
       "      <td>36</td>\n",
       "      <td>0</td>\n",
       "      <td>36</td>\n",
       "      <td>0.000000</td>\n",
       "    </tr>\n",
       "  </tbody>\n",
       "</table>\n",
       "</div>"
      ],
      "text/plain": [
       "          total  edible  poisonous    edible %\n",
       "none       3528    3408        120   96.598639\n",
       "foul       2160       0       2160    0.000000\n",
       "fishy       576       0        576    0.000000\n",
       "spicy       576       0        576    0.000000\n",
       "anise       400     400          0  100.000000\n",
       "almond      400     400          0  100.000000\n",
       "pungent     256       0        256    0.000000\n",
       "creosote    192       0        192    0.000000\n",
       "musty        36       0         36    0.000000"
      ]
     },
     "execution_count": 310,
     "metadata": {},
     "output_type": "execute_result"
    }
   ],
   "source": [
    "odor_dict = {\"a\":\"almond\", \"l\":\"anise\", \"c\":\"creosote\", \"y\":\"fishy\", \"f\":\"foul\", \"m\":\"musty\",\n",
    "             \"n\":\"none\", \"p\":\"pungent\", \"s\":\"spicy\"}\n",
    "getClassByFeature(\"odor\", odor_dict)"
   ]
  },
  {
   "cell_type": "markdown",
   "metadata": {},
   "source": [
    "Si vede che solo i funghi con `nessun odore`, odore di `anice` o di `mandorla` sono commestibili, mentre i restanti sono tutti velenosi. Possiamo quindi presuppore che l'odore di un fungo sia una feature molto importante per determinarne la sua commestibilità."
   ]
  },
  {
   "cell_type": "markdown",
   "metadata": {},
   "source": [
    "#### Colore delle sporata\n",
    "La sporata di un fungo può avere i seguenti colori: nero, marrone, marrone chiaro, cioccolato, verde, arancione, viola, bianco, giallo (*inglese: black = k, brown = n, buff = b, chocolate = h, green = r, orange = o, purple = u, white = w, yellow = y*)"
   ]
  },
  {
   "cell_type": "code",
   "execution_count": 311,
   "metadata": {},
   "outputs": [
    {
     "data": {
      "text/html": [
       "<div>\n",
       "<style scoped>\n",
       "    .dataframe tbody tr th:only-of-type {\n",
       "        vertical-align: middle;\n",
       "    }\n",
       "\n",
       "    .dataframe tbody tr th {\n",
       "        vertical-align: top;\n",
       "    }\n",
       "\n",
       "    .dataframe thead th {\n",
       "        text-align: right;\n",
       "    }\n",
       "</style>\n",
       "<table border=\"1\" class=\"dataframe\">\n",
       "  <thead>\n",
       "    <tr style=\"text-align: right;\">\n",
       "      <th></th>\n",
       "      <th>total</th>\n",
       "      <th>edible</th>\n",
       "      <th>poisonous</th>\n",
       "      <th>edible %</th>\n",
       "    </tr>\n",
       "  </thead>\n",
       "  <tbody>\n",
       "    <tr>\n",
       "      <th>white</th>\n",
       "      <td>2388</td>\n",
       "      <td>576</td>\n",
       "      <td>1812</td>\n",
       "      <td>24.120603</td>\n",
       "    </tr>\n",
       "    <tr>\n",
       "      <th>brown</th>\n",
       "      <td>1968</td>\n",
       "      <td>1744</td>\n",
       "      <td>224</td>\n",
       "      <td>88.617886</td>\n",
       "    </tr>\n",
       "    <tr>\n",
       "      <th>black</th>\n",
       "      <td>1872</td>\n",
       "      <td>1648</td>\n",
       "      <td>224</td>\n",
       "      <td>88.034188</td>\n",
       "    </tr>\n",
       "    <tr>\n",
       "      <th>chocolate</th>\n",
       "      <td>1632</td>\n",
       "      <td>48</td>\n",
       "      <td>1584</td>\n",
       "      <td>2.941176</td>\n",
       "    </tr>\n",
       "    <tr>\n",
       "      <th>green</th>\n",
       "      <td>72</td>\n",
       "      <td>0</td>\n",
       "      <td>72</td>\n",
       "      <td>0.000000</td>\n",
       "    </tr>\n",
       "    <tr>\n",
       "      <th>yellow</th>\n",
       "      <td>48</td>\n",
       "      <td>48</td>\n",
       "      <td>0</td>\n",
       "      <td>100.000000</td>\n",
       "    </tr>\n",
       "    <tr>\n",
       "      <th>purple</th>\n",
       "      <td>48</td>\n",
       "      <td>48</td>\n",
       "      <td>0</td>\n",
       "      <td>100.000000</td>\n",
       "    </tr>\n",
       "    <tr>\n",
       "      <th>orange</th>\n",
       "      <td>48</td>\n",
       "      <td>48</td>\n",
       "      <td>0</td>\n",
       "      <td>100.000000</td>\n",
       "    </tr>\n",
       "    <tr>\n",
       "      <th>buff</th>\n",
       "      <td>48</td>\n",
       "      <td>48</td>\n",
       "      <td>0</td>\n",
       "      <td>100.000000</td>\n",
       "    </tr>\n",
       "  </tbody>\n",
       "</table>\n",
       "</div>"
      ],
      "text/plain": [
       "           total  edible  poisonous    edible %\n",
       "white       2388     576       1812   24.120603\n",
       "brown       1968    1744        224   88.617886\n",
       "black       1872    1648        224   88.034188\n",
       "chocolate   1632      48       1584    2.941176\n",
       "green         72       0         72    0.000000\n",
       "yellow        48      48          0  100.000000\n",
       "purple        48      48          0  100.000000\n",
       "orange        48      48          0  100.000000\n",
       "buff          48      48          0  100.000000"
      ]
     },
     "execution_count": 311,
     "metadata": {},
     "output_type": "execute_result"
    }
   ],
   "source": [
    "color_dict = {\"k\":\"black\", \"n\":\"brown\", \"b\":\"buff\", \"h\":\"chocolate\", \"r\":\"green\", \"o\":\"orange\",\n",
    "              \"u\":\"purple\", \"w\":\"white\", \"y\":\"yellow\"}\n",
    "getClassByFeature(\"spore-print-color\", color_dict)"
   ]
  },
  {
   "cell_type": "markdown",
   "metadata": {},
   "source": [
    "Vediamo come funghi dalla sporata color `giallo`, `viola`, `arancione` o `marrone chiaro` siano tutti commestibili. Quelli con spurata `marrone` o `nero` sono in gran parte commestibili, mentre quelli con la spurata `bianca`, color `cioccolato` o `verde` sono per lo più velenosi."
   ]
  },
  {
   "cell_type": "markdown",
   "metadata": {},
   "source": [
    "#### Habitat\n",
    "Un fungo può vivere in uno dei seguenti habitat: erba, foglie, pascolo, sentiero, urbano, rifiuti, boschi (*inglese:  grasses = g, leaves = l, meadows = m, paths = p, urban = u, waste = w, woods = d*)"
   ]
  },
  {
   "cell_type": "code",
   "execution_count": 315,
   "metadata": {},
   "outputs": [
    {
     "data": {
      "text/html": [
       "<div>\n",
       "<style scoped>\n",
       "    .dataframe tbody tr th:only-of-type {\n",
       "        vertical-align: middle;\n",
       "    }\n",
       "\n",
       "    .dataframe tbody tr th {\n",
       "        vertical-align: top;\n",
       "    }\n",
       "\n",
       "    .dataframe thead th {\n",
       "        text-align: right;\n",
       "    }\n",
       "</style>\n",
       "<table border=\"1\" class=\"dataframe\">\n",
       "  <thead>\n",
       "    <tr style=\"text-align: right;\">\n",
       "      <th></th>\n",
       "      <th>total</th>\n",
       "      <th>edible</th>\n",
       "      <th>poisonous</th>\n",
       "      <th>edible %</th>\n",
       "    </tr>\n",
       "  </thead>\n",
       "  <tbody>\n",
       "    <tr>\n",
       "      <th>woods</th>\n",
       "      <td>3148</td>\n",
       "      <td>1880</td>\n",
       "      <td>1268</td>\n",
       "      <td>59.720457</td>\n",
       "    </tr>\n",
       "    <tr>\n",
       "      <th>grasses</th>\n",
       "      <td>2148</td>\n",
       "      <td>1408</td>\n",
       "      <td>740</td>\n",
       "      <td>65.549348</td>\n",
       "    </tr>\n",
       "    <tr>\n",
       "      <th>paths</th>\n",
       "      <td>1144</td>\n",
       "      <td>136</td>\n",
       "      <td>1008</td>\n",
       "      <td>11.888112</td>\n",
       "    </tr>\n",
       "    <tr>\n",
       "      <th>leaves</th>\n",
       "      <td>832</td>\n",
       "      <td>240</td>\n",
       "      <td>592</td>\n",
       "      <td>28.846154</td>\n",
       "    </tr>\n",
       "    <tr>\n",
       "      <th>urban</th>\n",
       "      <td>368</td>\n",
       "      <td>96</td>\n",
       "      <td>272</td>\n",
       "      <td>26.086957</td>\n",
       "    </tr>\n",
       "    <tr>\n",
       "      <th>meadows</th>\n",
       "      <td>292</td>\n",
       "      <td>256</td>\n",
       "      <td>36</td>\n",
       "      <td>87.671233</td>\n",
       "    </tr>\n",
       "    <tr>\n",
       "      <th>waste</th>\n",
       "      <td>192</td>\n",
       "      <td>192</td>\n",
       "      <td>0</td>\n",
       "      <td>100.000000</td>\n",
       "    </tr>\n",
       "  </tbody>\n",
       "</table>\n",
       "</div>"
      ],
      "text/plain": [
       "         total  edible  poisonous    edible %\n",
       "woods     3148    1880       1268   59.720457\n",
       "grasses   2148    1408        740   65.549348\n",
       "paths     1144     136       1008   11.888112\n",
       "leaves     832     240        592   28.846154\n",
       "urban      368      96        272   26.086957\n",
       "meadows    292     256         36   87.671233\n",
       "waste      192     192          0  100.000000"
      ]
     },
     "execution_count": 315,
     "metadata": {},
     "output_type": "execute_result"
    }
   ],
   "source": [
    "habitat_dict = {\"g\":\"grasses\", \"l\":\"leaves\", \"m\":\"meadows\", \"p\":\"paths\", \"u\":\"urban\", \"w\":\"waste\", \"d\":\"woods\"}\n",
    "getClassByFeature(\"habitat\", habitat_dict)"
   ]
  },
  {
   "cell_type": "markdown",
   "metadata": {},
   "source": [
    "I funghi commestibili sono leggermente più diffusi in habitat come `boschi`, `prati` e `pascoli`, ma meno diffusi nei `sentieri`, `foglie` e habitat `urbani`. Tutti i 192 funghi in habit di `rifiuti` sono commestibili."
   ]
  },
  {
   "cell_type": "markdown",
   "metadata": {},
   "source": [
    "<br><br><br>\n",
    "## 3. Preparazione dei dati\n",
    "\n",
    "Come abbiamo visto nella sezione precedente, esistono features dove il numero di funghi commestibili e velenosi sono più o meno uguali o semplicemente non presentano un'altra variabilità (es: `gill-attachment`, `gill-spacing`, `stalk-shape`, `veil-color`, `ring-number`). Prima di procedere alla creazione dei nostri modelli quindi, passiamo alla scelta delle feature più rilevanti."
   ]
  }
 ],
 "metadata": {
  "kernelspec": {
   "display_name": "Python 3",
   "language": "python",
   "name": "python3"
  },
  "language_info": {
   "codemirror_mode": {
    "name": "ipython",
    "version": 3
   },
   "file_extension": ".py",
   "mimetype": "text/x-python",
   "name": "python",
   "nbconvert_exporter": "python",
   "pygments_lexer": "ipython3",
   "version": "3.6.10"
  }
 },
 "nbformat": 4,
 "nbformat_minor": 4
}
